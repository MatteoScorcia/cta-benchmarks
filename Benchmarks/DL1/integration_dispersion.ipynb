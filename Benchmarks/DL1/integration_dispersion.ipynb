{
  "cells": [
    {
      "cell_type": "markdown",
      "source": [
        "# Integration and calibration benchmarks"
      ],
      "metadata": {}
    },
    {
      "cell_type": "markdown",
      "source": [
        "This benchmark requires the `integration.h5` file produced by `Preparation/integration_prep.ipynb`"
      ],
      "metadata": {}
    },
    {
      "cell_type": "code",
      "source": [
        "import numpy as np\n",
        "import matplotlib.pyplot as plt\n",
        "import pandas as pd\n",
        "import seaborn as sns\n",
        "\nfrom ctabench.visualization import plot_binned_mean"
      ],
      "outputs": [],
      "execution_count": null,
      "metadata": {}
    },
    {
      "cell_type": "code",
      "source": [
        "from IPython.core.display import display, HTML\n",
        "display(HTML(\"<style>.container { width:95% !important; }</style>\"));"
      ],
      "outputs": [],
      "execution_count": null,
      "metadata": {}
    },
    {
      "cell_type": "code",
      "source": [
        "filename = 'integration.h5'"
      ],
      "outputs": [],
      "execution_count": null,
      "metadata": {}
    },
    {
      "cell_type": "code",
      "source": [
        "integrators = ['NeighbourPeakIntegrator',\n",
        "               'LocalPeakIntegrator',\n",
        "               'FullIntegrator']\n",
        "\n",
        "cam_ids = ['LSTCam', 'NectarCam', 'FlashCam']\n",
        "\n\n",
        "integration_data = {}\n",
        "\n",
        "for integrator in integrators:\n",
        "    integration_data[integrator] = {}\n",
        "    for cam_id in cam_ids:\n",
        "        integration_data[integrator][cam_id] = pd.read_hdf(filename, key=integrator+'/'+cam_id)"
      ],
      "outputs": [],
      "execution_count": null,
      "metadata": {}
    },
    {
      "cell_type": "code",
      "source": [],
      "outputs": [],
      "execution_count": null,
      "metadata": {}
    },
    {
      "cell_type": "markdown",
      "source": [
        "# Correlation of signal with true pe signal"
      ],
      "metadata": {}
    },
    {
      "cell_type": "code",
      "source": [
        "for integrator in integration_data.keys():\n",
        "    print(integrator)\n",
        "    fig, axes = plt.subplots(1, 2, figsize=(25,10))\n",
        "    for ii, cam_id in enumerate(integration_data[integrator].keys()):\n",
        "        signal_sum = integration_data[integrator][cam_id].calibrated_signal_sum\n",
        "        true_pe_sum = integration_data[integrator][cam_id].true_pe_sum\n",
        "        mc_energy = integration_data[integrator][cam_id].energy\n",
        "        filter = true_pe_sum < 1000\n",
        "\n",
        "        reg = sns.regplot(true_pe_sum[filter], \n",
        "                          signal_sum[filter], \n",
        "                          label=cam_id+'_'+integrator,\n",
        "                          scatter_kws={'alpha':0.5},\n",
        "                          ax=axes[0],\n",
        "                          color=plt.cm.Dark2(ii),\n",
        "                         )\n",
        "#         reg.axes.set_xlim(0, 600)\n",
        "#         reg.axes.set_ylim(0, 600)\n",
        "\n",
        "        plot_binned_mean(np.log10(mc_energy[filter]), \n",
        "                         np.abs(true_pe_sum - signal_sum)[filter], \n",
        "                         color=plt.cm.Dark2(ii),\n",
        "                         label=cam_id+'_'+integrator,\n",
        "                         ax=axes[1],\n",
        "                        )\n",
        "\n",
        "    \n",
        "    \n",
        "    axes[0].plot(true_pe_sum[filter], true_pe_sum[filter], color='black')\n",
        "    \n",
        "    axes[1].set_xlabel(\"log10(E/TeV)\")\n",
        "    axes[1].set_ylabel(\"calibrated_pe - true_pe\")\n",
        "    axes[0].set_title(\"Calibrated pe as a function of true pe\")\n",
        "    axes[1].set_title(\"Distance from calibrated to true pe as a function of true pe\")\n",
        "    axes[0].legend()\n",
        "    axes[1].legend()\n",
        "    plt.show()"
      ],
      "outputs": [],
      "execution_count": null,
      "metadata": {
        "scrolled": false
      }
    },
    {
      "cell_type": "code",
      "source": [],
      "outputs": [],
      "execution_count": null,
      "metadata": {}
    }
  ],
  "metadata": {
    "kernelspec": {
      "display_name": "Python 3",
      "language": "python",
      "name": "python3"
    },
    "language_info": {
      "codemirror_mode": {
        "name": "ipython",
        "version": 3
      },
      "file_extension": ".py",
      "mimetype": "text/x-python",
      "name": "python",
      "nbconvert_exporter": "python",
      "pygments_lexer": "ipython3",
      "version": "3.6.7"
    },
    "nteract": {
      "version": "0.12.3"
    }
  },
  "nbformat": 4,
  "nbformat_minor": 2
}