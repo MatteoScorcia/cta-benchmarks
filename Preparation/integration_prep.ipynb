{
  "cells": [
    {
      "cell_type": "markdown",
      "source": [
        "# Data preparation for calibration benchmarks"
      ],
      "metadata": {}
    },
    {
      "cell_type": "code",
      "source": [
        "import numpy as np\n",
        "import matplotlib.pyplot as plt\n",
        "import pandas as pd\n",
        "import seaborn as sns\n",
        "from copy import deepcopy, copy\n",
        "import os\n",
        "\n",
        "from ctapipe.utils import get_dataset_path\n",
        "from ctapipe.io import event_source\n",
        "from ctapipe.calib import CameraCalibrator\n",
        "from ctapipe.visualization import CameraDisplay\n",
        "from ctapipe.io import HDF5TableWriter\n",
        "from ctapipe.io.containers import Container, Field\n",
        "from ctabench import tel_to_impact_point_distance"
      ],
      "outputs": [],
      "execution_count": null,
      "metadata": {}
    },
    {
      "cell_type": "code",
      "source": [
        "infile = '/Users/thomasvuillaume/Work/CTA/Data/simu_mc/Simtel/gamma_40deg_0deg_run102___cta-prod3-lapalma3-2147m-LaPalma_cone10.simtel.gz'\n",
        "max_events = None\n",
        "outdir = '.'\n",
        "\n",
        "integrators = [\n",
        "    'NeighbourPeakIntegrator',\n",
        "    'LocalPeakIntegrator',\n",
        "    'FullIntegrator',\n",
        "]"
      ],
      "outputs": [],
      "execution_count": null,
      "metadata": {
        "tags": [
          "parameters"
        ]
      }
    },
    {
      "cell_type": "code",
      "source": [
        "class Image(Container):\n",
        "    calibrated = Field(None)\n",
        "    true_pe = Field(None)\n",
        "    \n",
        "class DL1_parameters(Container):\n",
        "    mc_distance_tel_impact = Field(float, 'Distance from the telescope to the impact point')\n",
        "    \n",
        "def distance_tel_impact(event, tel_id):\n",
        "    tel_pos = event.inst.subarray.tel_coords[event.inst.subarray.tel_indices[tel_id]]\n",
        "    distance = np.sqrt((event.mc.core_x - tel_pos.x)**2 + (event.mc.core_y - tel_pos.y)**2)\n",
        "    return distance"
      ],
      "outputs": [],
      "execution_count": null,
      "metadata": {}
    },
    {
      "cell_type": "code",
      "source": [
        "source = event_source(infile, max_events=max_events)\n",
        "\n",
        "image_container = Image()\n",
        "dl1_parameters = DL1_parameters()\n",
        "dl1_parameters.prefix = ''\n",
        "\noutput_filename = outdir + '/DL1_integrations.h5'"
      ],
      "outputs": [],
      "execution_count": null,
      "metadata": {}
    },
    {
      "cell_type": "code",
      "source": [
        "for integrator in integrators:\n",
        "    print(integrator)    \n",
        "    with HDF5TableWriter(output_filename, group_name=integrator, mode='a', add_prefix=True) as h5_table:\n",
        "\n",
        "        cal = CameraCalibrator(r1_product='HESSIOR1Calibrator',\n",
        "                           extractor_product=integrator)\n",
        "\n",
        "        for event in source:\n",
        "            cal.calibrate(event)\n",
        "            \n",
        "            for tel_id in event.r0.tels_with_data:\n",
        "                tel = event.inst.subarray.tel[tel_id]\n",
        "                cam_id = tel.camera.cam_id\n",
        "                \n",
        "                dl1_parameters.mc_distance_tel_impact = tel_to_impact_point_distance(event, tel_id)\n",
        "\n",
        "                image_container.calibrated = event.dl1.tel[tel_id].image\n",
        "                image_container.true_pe = event.mc.tel[tel_id].photo_electron_image\n",
        "                \n",
        "                h5_table.write(cam_id, [image_container, event.mc, event.r0, dl1_parameters])\n"
      ],
      "outputs": [],
      "execution_count": null,
      "metadata": {}
    },
    {
      "cell_type": "code",
      "source": [],
      "outputs": [],
      "execution_count": null,
      "metadata": {}
    }
  ],
  "metadata": {
    "celltoolbar": "Tags",
    "kernelspec": {
      "display_name": "Python 3",
      "language": "python",
      "name": "python3"
    },
    "language_info": {
      "codemirror_mode": {
        "name": "ipython",
        "version": 3
      },
      "file_extension": ".py",
      "mimetype": "text/x-python",
      "name": "python",
      "nbconvert_exporter": "python",
      "pygments_lexer": "ipython3",
      "version": "3.6.7"
    },
    "nteract": {
      "version": "0.12.3"
    }
  },
  "nbformat": 4,
  "nbformat_minor": 2
}
