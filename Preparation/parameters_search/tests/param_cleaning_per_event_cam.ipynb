{
 "cells": [
  {
   "cell_type": "code",
   "execution_count": 1,
   "metadata": {
    "tags": [
     "parameters"
    ]
   },
   "outputs": [],
   "source": [
    "input_dir = '/home/matteo/ctasoft/resources'\n",
    "gamma_diffuse = 'gamma_20deg_0deg_run101___cta-prod3-lapalma3-2147m-LaPalma.simtel.gz'\n",
    "sys_path = '/home/matteo/ctasoft/'\n",
    "prepared_data_dir = 'prepared_data/output'"
   ]
  },
  {
   "cell_type": "code",
   "execution_count": 2,
   "metadata": {},
   "outputs": [
    {
     "name": "stderr",
     "output_type": "stream",
     "text": [
      "/home/matteo/miniconda3/envs/cta-benchmarks/lib/python3.6/site-packages/corsikaio/subblocks/dtypes.py:20: FutureWarning: Passing (type, 1) or '1type' as a synonym of type is deprecated; in a future version of numpy, it will be understood as (type, (1,)) / '(1,)type'.\n",
      "  return np.dtype(dict(**dt))\n"
     ]
    }
   ],
   "source": [
    "import sys\n",
    "import os\n",
    "sys.path.append(sys_path + \"cta-benchmarks/Preparation/parameters_search\")  # path contains python_file.py\n",
    "from quality_parameters_function import iterate_param, create_possible_parameters, calc_mean_std\n",
    "from angular_distance_function import angular_distance"
   ]
  },
  {
   "cell_type": "code",
   "execution_count": 3,
   "metadata": {},
   "outputs": [],
   "source": [
    "\"\"\"\n",
    "script to find the optimized levels of cleaning for each image of an event.\n",
    "Data are discriminated by the telescope type and then stored in the appropriate .npz file in\n",
    "'output/event_cam' folder.\n",
    "This means that we have optimized cleaning levels for each type of telescope\n",
    "\n",
    "\"\"\"\n",
    "\n",
    "from ctapipe.utils.datasets import find_in_path\n",
    "from ctapipe.io import event_source\n",
    "from ctapipe.calib import CameraCalibrator\n",
    "import numpy as np\n",
    "\n",
    "possible_cleaning_levels = create_possible_parameters()"
   ]
  },
  {
   "cell_type": "code",
   "execution_count": 4,
   "metadata": {},
   "outputs": [],
   "source": [
    "quality_param_list = []\n",
    "hillas_containers = {}\n",
    "\n",
    "data_event = []\n",
    "data_LST = []\n",
    "data_Nectar = []\n",
    "data_Flash = []\n",
    "data_SCT = []\n",
    "\n",
    "# load events from gamma_diffuse dir\n",
    "input_url = find_in_path(gamma_diffuse, input_dir)\n",
    "events = event_source(input_url, max_events=10)\n",
    "\n",
    "calibrator = CameraCalibrator()"
   ]
  },
  {
   "cell_type": "code",
   "execution_count": 5,
   "metadata": {},
   "outputs": [],
   "source": [
    "prepared_data_dir = '../../../' + prepared_data_dir + '/event_cam'\n",
    "\n",
    "if not os.path.exists(prepared_data_dir):\n",
    "    os.makedirs(prepared_data_dir, exist_ok=True)"
   ]
  },
  {
   "cell_type": "code",
   "execution_count": 6,
   "metadata": {},
   "outputs": [],
   "source": [
    "for number_event, event in enumerate(events):\n",
    "    hillas_containers.clear()\n",
    "    calibrator(event)\n",
    "\n",
    "    for telescope_id, dl1 in event.dl1.tel.items():\n",
    "        quality_param_list.clear()\n",
    "\n",
    "        image = dl1.image\n",
    "        camera = event.inst.subarray.tels[telescope_id].camera\n",
    "\n",
    "        optimized_cleaning_level = iterate_param(possible_cleaning_levels, event, camera, image,\n",
    "                                                 telescope_id, quality_param_list, hillas_containers)\n",
    "\n",
    "        # storing for different camera types\n",
    "        if camera.cam_id == 'LSTCam':\n",
    "            data_LST.append(optimized_cleaning_level)\n",
    "        elif camera.cam_id == 'NectarCam':\n",
    "            data_Nectar.append(optimized_cleaning_level)\n",
    "        elif camera.cam_id == 'FlashCam':\n",
    "            data_Flash.append(optimized_cleaning_level)\n",
    "        elif camera.cam_id == 'SCTCam':\n",
    "            data_SCT.append(optimized_cleaning_level)\n",
    "\n",
    "    # calculate angular separation\n",
    "    separation = angular_distance(event, hillas_containers)\n",
    "\n",
    "    # calculate mean and standard deviation for each telescope type for the current event\n",
    "    mean_LST, std_LST = calc_mean_std(data_LST)\n",
    "    mean_Nectar, std_Nectar = calc_mean_std(data_Nectar)\n",
    "    mean_Flash, std_Flash = calc_mean_std(data_Flash)\n",
    "    mean_SCT, std_SCT = calc_mean_std(data_SCT)\n",
    "\n",
    "    # storing data event\n",
    "    data_event.append((number_event, event.mc.energy, separation, event.inst.subarray.tel_coords))\n",
    "    data_event.append(('LSTCam', mean_LST, std_LST))\n",
    "    data_event.append(('NectarCam', mean_Nectar, std_Nectar))\n",
    "    data_event.append(('FlashCam', mean_Flash, std_Flash))\n",
    "    data_event.append(('SCTCam', mean_SCT, std_SCT))\n",
    "\n",
    "# storing in compressed files all the data\n",
    "np.savez_compressed(prepared_data_dir+'/event_' + gamma_diffuse + '.npz',\n",
    "                    data=data_event)\n",
    "\n",
    "np.savez_compressed(prepared_data_dir+'/LST_parameters_' + gamma_diffuse + '.npz',\n",
    "                    data=data_LST)\n",
    "\n",
    "np.savez_compressed(prepared_data_dir+'/Nectar_parameters_' + gamma_diffuse + '.npz',\n",
    "                    data=data_Nectar)\n",
    "\n",
    "np.savez_compressed(prepared_data_dir+'/Flash_parameters_' + gamma_diffuse + '.npz',\n",
    "                    data=data_Flash)\n",
    "\n",
    "np.savez_compressed(prepared_data_dir+'/SCT_parameters_' + gamma_diffuse + '.npz',\n",
    "                    data=data_SCT)"
   ]
  },
  {
   "cell_type": "code",
   "execution_count": null,
   "metadata": {},
   "outputs": [],
   "source": []
  }
 ],
 "metadata": {
  "celltoolbar": "Tags",
  "kernelspec": {
   "display_name": "Python 3",
   "language": "python",
   "name": "python3"
  },
  "language_info": {
   "codemirror_mode": {
    "name": "ipython",
    "version": 3
   },
   "file_extension": ".py",
   "mimetype": "text/x-python",
   "name": "python",
   "nbconvert_exporter": "python",
   "pygments_lexer": "ipython3",
   "version": "3.6.7"
  }
 },
 "nbformat": 4,
 "nbformat_minor": 2
}
