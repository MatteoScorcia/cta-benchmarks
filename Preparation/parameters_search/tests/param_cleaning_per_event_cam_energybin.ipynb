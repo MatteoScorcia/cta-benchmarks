{
 "cells": [
  {
   "cell_type": "code",
   "execution_count": 1,
   "metadata": {
    "tags": [
     "parameters"
    ]
   },
   "outputs": [],
   "source": [
    "gamma_diffuse = 'gamma_20deg_0deg_run101___cta-prod3-lapalma3-2147m-LaPalma.simtel.gz'\n",
    "sys_path = '/home/matteo/ctasoft/'\n",
    "prepared_data_dir = 'prepared_data/output'"
   ]
  },
  {
   "cell_type": "code",
   "execution_count": 2,
   "metadata": {},
   "outputs": [],
   "source": [
    "import sys\n",
    "import os\n",
    "sys.path.append(sys_path+\"cta-benchmarks/Preparation/parameters_search\")  # path contains python_file.py\n",
    "from energy_bin_function import create_folders_energybin, which_energybin_folder"
   ]
  },
  {
   "cell_type": "code",
   "execution_count": 3,
   "metadata": {},
   "outputs": [],
   "source": [
    "\"\"\"\n",
    "script to find the optimized levels of cleaning for each image of an event.\n",
    "Data are discriminated by the telescope type and by the energy of the event, then stored\n",
    "in the appropriate .npz file in 'output/event_cam_energybin' folder.\n",
    "This means that we have optimized cleaning levels for each type of telescope\n",
    "\n",
    "\"\"\"\n",
    "\n",
    "import numpy as np\n",
    "from astropy import units as u"
   ]
  },
  {
   "cell_type": "code",
   "execution_count": 4,
   "metadata": {},
   "outputs": [],
   "source": [
    "prepared_data_dir = '../../../' + prepared_data_dir + '/event_cam'\n",
    "\n",
    "if not os.path.exists(prepared_data_dir):\n",
    "    os.makedirs(prepared_data_dir, exist_ok=True)\n",
    "    \n",
    "output_folder = prepared_data_dir + '/../event_cam_energybin'\n",
    "\n",
    "if not os.path.exists(output_folder):\n",
    "    os.makedirs(output_folder, exist_ok=True)"
   ]
  },
  {
   "cell_type": "code",
   "execution_count": 5,
   "metadata": {},
   "outputs": [],
   "source": [
    "output_folder = prepared_data_dir + '/../event_cam_energybin'\n",
    "\n",
    "loaded = np.load(prepared_data_dir + '/event_' + gamma_diffuse + '.npz', allow_pickle=True)\n",
    "\n",
    "data_loaded = loaded['data']\n",
    "\n",
    "dict_folders = create_folders_energybin(output_folder)\n",
    "\n",
    "# search the energy info and store in the right list the data\n",
    "for row in data_loaded:\n",
    "    if isinstance(row[1], type(u.Quantity(1, u.GeV))):\n",
    "        energy_event = row[1]\n",
    "        dest_folder = which_energybin_folder(energy_event)\n",
    "    else:\n",
    "        if row[0] == 'LSTCam':\n",
    "            dict_folders[dest_folder]['LSTCam'].append(row)\n",
    "        elif row[0] == 'NectarCam':\n",
    "            dict_folders[dest_folder]['NectarCam'].append(row)\n",
    "        elif row[0] == 'FlashCam':\n",
    "            dict_folders[dest_folder]['FlashCam'].append(row)\n",
    "        elif row[0] == 'SCTCam':\n",
    "            dict_folders[dest_folder]['SCTCam'].append(row)\n",
    "\n",
    "# storing the data\n",
    "for key, value in dict_folders.items():\n",
    "    for k, v in value.items():\n",
    "        path = output_folder + f\"/{key}/{k}\"\n",
    "        np.savez_compressed(path, data=v)"
   ]
  }
 ],
 "metadata": {
  "celltoolbar": "Tags",
  "kernelspec": {
   "display_name": "Python 3",
   "language": "python",
   "name": "python3"
  },
  "language_info": {
   "codemirror_mode": {
    "name": "ipython",
    "version": 3
   },
   "file_extension": ".py",
   "mimetype": "text/x-python",
   "name": "python",
   "nbconvert_exporter": "python",
   "pygments_lexer": "ipython3",
   "version": "3.6.7"
  }
 },
 "nbformat": 4,
 "nbformat_minor": 2
}
