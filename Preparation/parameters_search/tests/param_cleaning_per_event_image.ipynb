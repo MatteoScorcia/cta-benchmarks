{
 "cells": [
  {
   "cell_type": "code",
   "execution_count": null,
   "metadata": {
    "pycharm": {
     "name": "#%%\n"
    },
    "tags": [
     "parameters"
    ]
   },
   "outputs": [],
   "source": [
    "input_dir = '/home/matteo/ctasoft/resources'\n",
    "gamma_diffuse = 'gamma_20deg_0deg_run101___cta-prod3-lapalma3-2147m-LaPalma.simtel.gz'\n",
    "sys_path = '/home/matteo/ctasoft/'\n",
    "prepared_data_dir = 'prepared_data/output'"
   ]
  },
  {
   "cell_type": "code",
   "execution_count": null,
   "metadata": {},
   "outputs": [],
   "source": [
    "import sys\n",
    "import os\n",
    "sys.path.append(sys_path + \"cta-benchmarks/Preparation/parameters_search\")  # path contains python_file.py\n",
    "from quality_parameters_function import iterate_param, create_possible_parameters"
   ]
  },
  {
   "cell_type": "code",
   "execution_count": null,
   "metadata": {
    "pycharm": {
     "is_executing": false,
     "name": "#%%\n"
    }
   },
   "outputs": [],
   "source": [
    "\"\"\"\n",
    "script to find the optimized levels of cleaning for each image of an event.\n",
    "\n",
    "Data are saved in the script's path in a .npz file\n",
    "\n",
    "\"\"\"\n",
    "\n",
    "from ctapipe.utils.datasets import find_in_path\n",
    "from ctapipe.io import event_source\n",
    "from ctapipe.calib import CameraCalibrator\n",
    "import numpy as np\n",
    "\n",
    "possible_cleaning_levels = create_possible_parameters()\n",
    "\n",
    "quality_param_list = []\n",
    "hillas_containers = {}\n",
    "\n",
    "data = []"
   ]
  },
  {
   "cell_type": "code",
   "execution_count": null,
   "metadata": {},
   "outputs": [],
   "source": [
    "prepared_data_dir = '../../../' + prepared_data_dir\n",
    "\n",
    "if not os.path.exists(prepared_data_dir):\n",
    "    os.makedirs(prepared_data_dir, exist_ok=True)"
   ]
  },
  {
   "cell_type": "code",
   "execution_count": null,
   "metadata": {
    "pycharm": {
     "name": "#%%\n"
    }
   },
   "outputs": [],
   "source": [
    "input_url = find_in_path(gamma_diffuse, input_dir)\n",
    "events = event_source(input_url, max_events=1)\n",
    "\n",
    "calibrator = CameraCalibrator()"
   ]
  },
  {
   "cell_type": "code",
   "execution_count": null,
   "metadata": {
    "pycharm": {
     "name": "#%%\n"
    }
   },
   "outputs": [],
   "source": [
    "for number_event, event in enumerate(events):\n",
    "    hillas_containers.clear()\n",
    "    calibrator(event)\n",
    "    data.append((number_event, event.mc.energy, event.inst.subarray.tel_coords))\n",
    "\n",
    "    for telescope_id, dl1 in event.dl1.tel.items():\n",
    "        quality_param_list.clear()\n",
    "\n",
    "        image = dl1.image\n",
    "        camera = event.inst.subarray.tels[telescope_id].camera\n",
    "\n",
    "        optimized_cleaning_level = iterate_param(possible_cleaning_levels, event, camera, image,\n",
    "                                                 telescope_id, quality_param_list, hillas_containers)\n",
    "\n",
    "        data.append((camera.cam_id, telescope_id,\n",
    "                     optimized_cleaning_level))\n",
    "\n",
    "np.savez_compressed(prepared_data_dir+'/parameters_' + gamma_diffuse + '.npz', data=data)\n",
    "\n",
    "loaded = np.load(prepared_data_dir+'/parameters_' + gamma_diffuse + '.npz', allow_pickle=True)\n",
    "\n",
    "data_loaded = loaded['data']\n",
    "\n",
    "print(data_loaded)"
   ]
  },
  {
   "cell_type": "code",
   "execution_count": null,
   "metadata": {},
   "outputs": [],
   "source": []
  }
 ],
 "metadata": {
  "celltoolbar": "Tags",
  "kernelspec": {
   "display_name": "Python 3",
   "language": "python",
   "name": "python3"
  },
  "language_info": {
   "codemirror_mode": {
    "name": "ipython",
    "version": 3
   },
   "file_extension": ".py",
   "mimetype": "text/x-python",
   "name": "python",
   "nbconvert_exporter": "python",
   "pygments_lexer": "ipython3",
   "version": "3.6.7"
  },
  "pycharm": {
   "stem_cell": {
    "cell_type": "raw",
    "metadata": {
     "collapsed": false
    },
    "source": []
   }
  }
 },
 "nbformat": 4,
 "nbformat_minor": 1
}
