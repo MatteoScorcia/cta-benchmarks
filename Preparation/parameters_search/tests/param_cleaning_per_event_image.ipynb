{
 "cells": [
  {
   "cell_type": "code",
   "execution_count": 1,
   "metadata": {
    "pycharm": {
     "name": "#%%\n"
    },
    "tags": [
     "parameters"
    ]
   },
   "outputs": [],
   "source": [
    "input_dir = '/home/matteo/ctasoft/resources'\n",
    "gamma_diffuse = 'gamma_20deg_0deg_run101___cta-prod3-lapalma3-2147m-LaPalma.simtel.gz'\n",
    "sys_path = '/home/matteo/ctasoft/'\n",
    "prepared_data_dir = 'prepared_data/output'"
   ]
  },
  {
   "cell_type": "code",
   "execution_count": 2,
   "metadata": {},
   "outputs": [
    {
     "name": "stderr",
     "output_type": "stream",
     "text": [
      "/home/matteo/miniconda3/envs/cta-benchmarks/lib/python3.6/site-packages/corsikaio/subblocks/dtypes.py:20: FutureWarning: Passing (type, 1) or '1type' as a synonym of type is deprecated; in a future version of numpy, it will be understood as (type, (1,)) / '(1,)type'.\n",
      "  return np.dtype(dict(**dt))\n"
     ]
    }
   ],
   "source": [
    "import sys\n",
    "import os\n",
    "sys.path.append(sys_path + \"cta-benchmarks/Preparation/parameters_search\")  # path contains python_file.py\n",
    "from quality_parameters_function import iterate_param, create_possible_parameters"
   ]
  },
  {
   "cell_type": "code",
   "execution_count": 3,
   "metadata": {
    "pycharm": {
     "is_executing": false,
     "name": "#%%\n"
    }
   },
   "outputs": [],
   "source": [
    "\"\"\"\n",
    "script to find the optimized levels of cleaning for each image of an event.\n",
    "\n",
    "Data are saved in the script's path in a .npz file\n",
    "\n",
    "\"\"\"\n",
    "\n",
    "from ctapipe.utils.datasets import find_in_path\n",
    "from ctapipe.io import event_source\n",
    "from ctapipe.calib import CameraCalibrator\n",
    "import numpy as np\n",
    "\n",
    "possible_cleaning_levels = create_possible_parameters()\n",
    "\n",
    "quality_param_list = []\n",
    "hillas_containers = {}\n",
    "\n",
    "data = []"
   ]
  },
  {
   "cell_type": "code",
   "execution_count": 4,
   "metadata": {},
   "outputs": [],
   "source": [
    "prepared_data_dir = '../../../' + prepared_data_dir\n",
    "\n",
    "if not os.path.exists(prepared_data_dir):\n",
    "    os.makedirs(prepared_data_dir, exist_ok=True)"
   ]
  },
  {
   "cell_type": "code",
   "execution_count": 5,
   "metadata": {
    "pycharm": {
     "name": "#%%\n"
    }
   },
   "outputs": [],
   "source": [
    "input_url = find_in_path(gamma_diffuse, input_dir)\n",
    "events = event_source(input_url, max_events=1)\n",
    "\n",
    "calibrator = CameraCalibrator()"
   ]
  },
  {
   "cell_type": "code",
   "execution_count": 6,
   "metadata": {
    "pycharm": {
     "name": "#%%\n"
    }
   },
   "outputs": [
    {
     "name": "stdout",
     "output_type": "stream",
     "text": [
      "[[0 <Quantity 0.08440065 TeV>\n",
      "  <SkyCoord (GroundFrame): (x, y, z) in m\n",
      "    [( -70.05000305,   -7.23000002,  56.        ),\n",
      "     ( -12.30000019,   71.29000092,  47.        ),\n",
      "     (  71.81999969,    8.19999981,  43.        ),\n",
      "     (   9.31000042,  -68.06999969,  50.        ),\n",
      "     ( -70.04000092,   -7.23000002,  54.        ),\n",
      "     ( -34.36999893,  110.98000336,  43.        ),\n",
      "     (  76.18000031,   95.33999634,  39.70000076),\n",
      "     (  31.80999947,  -19.70000076,  43.        ),\n",
      "     (   0.        ,    0.        ,  43.        ),\n",
      "     ( 180.32000732,   28.52000046,  20.        ),\n",
      "     ( -22.53000069,  196.8999939 ,  27.        ),\n",
      "     ( 100.94000244,  124.51000214,  31.        ),\n",
      "     ( 169.42999268, -125.27999878,  37.        ),\n",
      "     (  20.55999947, -199.05000305,  48.        ),\n",
      "     ( -97.34999847, -126.30000305,  57.        ),\n",
      "     (-198.58999634,  -26.45000076,  59.        ),\n",
      "     (-168.78999329,  124.22000122,  52.        ),\n",
      "     (  66.38999939,  341.44000244,  16.        ),\n",
      "     ( 246.69999695,  212.52999878,  12.        ),\n",
      "     ( 316.36999512,  -62.29999924,  23.        ),\n",
      "     ( 141.75      , -285.57000732,  62.        ),\n",
      "     (-131.75999451, -267.23999023,  74.        ),\n",
      "     (-116.01000214,  284.98999023,  29.        ),\n",
      "     (-210.6499939 ,   50.50999832,  61.29999924),\n",
      "     (-179.05999756,  223.02000427,  42.09999847),\n",
      "     (  27.95999908,  243.55999756,  23.20000076),\n",
      "     ( 176.27000427,  127.90000153,  19.29999924),\n",
      "     ( 124.20999908, -134.55999756,  39.59999847),\n",
      "     ( -74.73000336, -144.16000366,  53.20000076),\n",
      "     (-214.78999329, -122.51999664,  74.09999847),\n",
      "     ( -98.11000061,  376.45001221,  20.70000076),\n",
      "     ( 189.11000061, -351.23999023,  64.5       ),\n",
      "     (  21.07999992, -307.60998535,  73.30000305),\n",
      "     (-196.3999939 , -290.23999023,  88.09999847),\n",
      "     ( 321.05999756,  -39.13000107,  17.39999962),\n",
      "     (  65.80000305, -528.35998535,  88.5       ),\n",
      "     (-122.08000183, -453.01998901, 101.        ),\n",
      "     (   0.89999998,   44.84999847,  40.        ),\n",
      "     ( 130.        , -440.        ,  52.        ),\n",
      "     (-302.8500061 ,  384.6000061 ,  33.29999924),\n",
      "     (-345.        ,  175.        ,  69.        ),\n",
      "     (-374.98999023,  -33.38999939,  92.59999847),\n",
      "     (   0.        ,    0.        ,  43.        ),\n",
      "     ( 180.32000732,   28.52000046,  20.        ),\n",
      "     ( -22.53000069,  196.8999939 ,  27.        ),\n",
      "     ( 100.94000244,  124.51000214,  31.        ),\n",
      "     ( 169.42999268, -125.27999878,  37.        ),\n",
      "     (  20.55999947, -199.05000305,  48.        ),\n",
      "     ( -97.34999847, -126.30000305,  57.        ),\n",
      "     (-198.58999634,  -26.45000076,  59.        ),\n",
      "     (-168.78999329,  124.22000122,  52.        ),\n",
      "     (  66.38999939,  341.44000244,  16.        ),\n",
      "     ( 246.69999695,  212.52999878,  12.        ),\n",
      "     ( 316.36999512,  -62.29999924,  23.        ),\n",
      "     ( 141.75      , -285.57000732,  62.        ),\n",
      "     (-131.75999451, -267.23999023,  74.        ),\n",
      "     (-116.01000214,  284.98999023,  29.        ),\n",
      "     (-210.6499939 ,   50.50999832,  61.29999924),\n",
      "     (-179.05999756,  223.02000427,  42.09999847),\n",
      "     (  27.95999908,  243.55999756,  23.20000076),\n",
      "     ( 176.27000427,  127.90000153,  19.29999924),\n",
      "     ( 124.20999908, -134.55999756,  39.59999847),\n",
      "     ( -74.73000336, -144.16000366,  53.20000076),\n",
      "     (-214.78999329, -122.51999664,  74.09999847),\n",
      "     ( -98.11000061,  376.45001221,  20.70000076),\n",
      "     ( 189.11000061, -351.23999023,  64.5       ),\n",
      "     (  21.07999992, -307.60998535,  73.30000305),\n",
      "     (-196.3999939 , -290.23999023,  88.09999847),\n",
      "     ( 321.05999756,  -39.13000107,  17.39999962),\n",
      "     (  65.80000305, -528.35998535,  88.5       ),\n",
      "     (-122.08000183, -453.01998901, 101.        ),\n",
      "     (   0.89999998,   44.84999847,  40.        ),\n",
      "     ( 130.        , -440.        ,  52.        ),\n",
      "     (-302.8500061 ,  384.6000061 ,  33.29999924),\n",
      "     (-345.        ,  175.        ,  69.        ),\n",
      "     (-374.98999023,  -33.38999939,  92.59999847),\n",
      "     (   0.        ,    0.        ,  43.        ),\n",
      "     ( 180.32000732,   28.52000046,  20.        ),\n",
      "     ( -22.53000069,  196.8999939 ,  27.        ),\n",
      "     ( 100.94000244,  124.51000214,  31.        ),\n",
      "     ( 169.42999268, -125.27999878,  37.        ),\n",
      "     (  20.55999947, -199.05000305,  48.        ),\n",
      "     ( -97.34999847, -126.30000305,  57.        ),\n",
      "     (-198.58999634,  -26.45000076,  59.        ),\n",
      "     (-168.78999329,  124.22000122,  52.        ),\n",
      "     (  66.38999939,  341.44000244,  16.        ),\n",
      "     ( 246.69999695,  212.52999878,  12.        ),\n",
      "     ( 316.36999512,  -62.29999924,  23.        ),\n",
      "     ( 141.75      , -285.57000732,  62.        ),\n",
      "     (-131.75999451, -267.23999023,  74.        ),\n",
      "     (-116.01000214,  284.98999023,  29.        ),\n",
      "     (-210.6499939 ,   50.50999832,  61.29999924),\n",
      "     (-179.05999756,  223.02000427,  42.09999847),\n",
      "     (  27.95999908,  243.55999756,  23.20000076),\n",
      "     ( 176.27000427,  127.90000153,  19.29999924),\n",
      "     ( 124.20999908, -134.55999756,  39.59999847),\n",
      "     ( -74.73000336, -144.16000366,  53.20000076),\n",
      "     (-214.78999329, -122.51999664,  74.09999847),\n",
      "     ( -98.11000061,  376.45001221,  20.70000076),\n",
      "     ( 189.11000061, -351.23999023,  64.5       ),\n",
      "     (  21.07999992, -307.60998535,  73.30000305),\n",
      "     (-196.3999939 , -290.23999023,  88.09999847),\n",
      "     ( 321.05999756,  -39.13000107,  17.39999962),\n",
      "     (  65.80000305, -528.35998535,  88.5       ),\n",
      "     (-122.08000183, -453.01998901, 101.        ),\n",
      "     (   0.89999998,   44.84999847,  40.        ),\n",
      "     ( 130.        , -440.        ,  52.        ),\n",
      "     (-302.8500061 ,  384.6000061 ,  33.29999924),\n",
      "     (-345.        ,  175.        ,  69.        ),\n",
      "     (-374.98999023,  -33.38999939,  92.59999847),\n",
      "     ( 130.        , -115.        ,  35.        ),\n",
      "     ( 204.27999878, -267.83999634,  53.        ),\n",
      "     ( 380.64001465, -202.27000427,  31.        ),\n",
      "     ( 277.6499939 ,  -37.79999924,  18.        ),\n",
      "     ( 160.        ,  100.        ,  22.        ),\n",
      "     ( 130.        , -115.        ,  35.        ),\n",
      "     ( 204.27999878, -267.83999634,  53.        ),\n",
      "     ( 380.64001465, -202.27000427,  31.        ),\n",
      "     ( 277.6499939 ,  -37.79999924,  18.        ),\n",
      "     ( 160.        ,  100.        ,  22.        ),\n",
      "     ( 130.        , -115.        ,  35.        ),\n",
      "     ( 204.27999878, -267.83999634,  53.        ),\n",
      "     ( 380.64001465, -202.27000427,  31.        ),\n",
      "     ( 277.6499939 ,  -37.79999924,  18.        ),\n",
      "     ( 160.        ,  100.        ,  22.        )]>]\n",
      " ['LSTCam' 1 array([ 9.75, 19.5 ,  3.  ])]\n",
      " ['LSTCam' 2 array([ 9.5, 19. ,  3. ])]\n",
      " ['LSTCam' 3 array([ 9.75, 19.5 ,  3.  ])]\n",
      " ['LSTCam' 4 array([ 9.75, 19.5 ,  3.  ])]\n",
      " ['LSTCam' 5 array([ 9.75, 19.5 ,  3.  ])]\n",
      " ['LSTCam' 6 array([ 9., 18.,  3.])]\n",
      " ['LSTCam' 7 array([ 9.75, 19.5 ,  3.  ])]\n",
      " ['LSTCam' 8 array([ 9.75, 19.5 ,  3.  ])]\n",
      " ['FlashCam' 10 array([4.75, 9.5 , 0.  ])]\n",
      " ['FlashCam' 12 array([ 6.75, 13.5 ,  0.  ])]\n",
      " ['FlashCam' 13 array([ 8.5, 17. ,  0. ])]\n",
      " ['FlashCam' 14 array([ 6.75, 13.5 ,  0.  ])]\n",
      " ['FlashCam' 15 array([ 5.5, 11. ,  0. ])]\n",
      " ['FlashCam' 21 array([ 5.5, 11. ,  0. ])]\n",
      " ['FlashCam' 28 array([ 6.5, 13. ,  0. ])]\n",
      " ['FlashCam' 29 array([ 8., 16.,  0.])]\n",
      " ['FlashCam' 38 array([ 5.25, 10.5 ,  0.  ])]\n",
      " ['NectarCam' 43 array([ 5., 10.,  0.])]\n",
      " ['NectarCam' 44 array([4.5, 9. , 0. ])]\n",
      " ['NectarCam' 46 array([3.75, 7.5 , 0.  ])]\n",
      " ['NectarCam' 47 array([ 6.5, 13. ,  0. ])]\n",
      " ['NectarCam' 48 array([ 7.25, 14.5 ,  0.  ])]\n",
      " ['NectarCam' 49 array([4.25, 8.5 , 0.  ])]\n",
      " ['NectarCam' 55 array([4.5, 9. , 0. ])]\n",
      " ['NectarCam' 62 array([ 6.5, 13. ,  0. ])]\n",
      " ['NectarCam' 63 array([3.75, 7.5 , 0.  ])]\n",
      " ['NectarCam' 72 array([3., 6., 0.])]\n",
      " ['SCTCam' 81 array([3., 6., 0.])]\n",
      " ['SCTCam' 82 array([2.5, 5. , 0. ])]\n",
      " ['SCTCam' 97 array([2.5, 5. , 0. ])]\n",
      " ['SCTCam' 106 array([3., 6., 0.])]\n",
      " ['FlashCam' 111 array([ 6.5, 13. ,  0. ])]\n",
      " ['FlashCam' 115 array([ 6., 12.,  0.])]\n",
      " ['NectarCam' 116 array([3.5, 7. , 0. ])]\n",
      " ['NectarCam' 120 array([3., 6., 0.])]\n",
      " ['SCTCam' 121 array([3., 6., 0.])]]\n"
     ]
    }
   ],
   "source": [
    "for number_event, event in enumerate(events):\n",
    "    hillas_containers.clear()\n",
    "    calibrator(event)\n",
    "    data.append((number_event, event.mc.energy, event.inst.subarray.tel_coords))\n",
    "\n",
    "    for telescope_id, dl1 in event.dl1.tel.items():\n",
    "        quality_param_list.clear()\n",
    "\n",
    "        image = dl1.image\n",
    "        camera = event.inst.subarray.tels[telescope_id].camera\n",
    "\n",
    "        optimized_cleaning_level = iterate_param(possible_cleaning_levels, event, camera, image,\n",
    "                                                 telescope_id, quality_param_list, hillas_containers)\n",
    "\n",
    "        data.append((camera.cam_id, telescope_id,\n",
    "                     optimized_cleaning_level))\n",
    "\n",
    "np.savez_compressed(prepared_data_dir+'/parameters_' + gamma_diffuse + '.npz', data=data)\n",
    "\n",
    "loaded = np.load(prepared_data_dir+'/parameters_' + gamma_diffuse + '.npz', allow_pickle=True)\n",
    "\n",
    "data_loaded = loaded['data']\n",
    "\n",
    "print(data_loaded)"
   ]
  },
  {
   "cell_type": "code",
   "execution_count": null,
   "metadata": {},
   "outputs": [],
   "source": []
  }
 ],
 "metadata": {
  "celltoolbar": "Tags",
  "kernelspec": {
   "display_name": "Python 3",
   "language": "python",
   "name": "python3"
  },
  "language_info": {
   "codemirror_mode": {
    "name": "ipython",
    "version": 3
   },
   "file_extension": ".py",
   "mimetype": "text/x-python",
   "name": "python",
   "nbconvert_exporter": "python",
   "pygments_lexer": "ipython3",
   "version": "3.6.7"
  },
  "pycharm": {
   "stem_cell": {
    "cell_type": "raw",
    "metadata": {
     "collapsed": false
    },
    "source": []
   }
  }
 },
 "nbformat": 4,
 "nbformat_minor": 1
}
